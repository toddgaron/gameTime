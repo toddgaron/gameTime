{
 "cells": [
  {
   "cell_type": "code",
   "execution_count": 90,
   "metadata": {
    "collapsed": true
   },
   "outputs": [],
   "source": [
    "import numpy as np\n",
    "from random import sample,choice\n",
    "%matplotlib inline\n",
    "import matplotlib.pyplot as plt"
   ]
  },
  {
   "cell_type": "code",
   "execution_count": 2,
   "metadata": {
    "collapsed": false
   },
   "outputs": [
    {
     "name": "stdout",
     "output_type": "stream",
     "text": [
      "(1189, 1189)\n"
     ]
    }
   ],
   "source": [
    "a=load('aMatrix.npy')\n",
    "#app.recsMasked = genfromtxt('aMatrixMasked.csv', delimiter=\",\")\n",
    "aMasked = load('aMatrixMasked.npy')\n",
    "itemSim=load('itemitem.npy')\n",
    "gameSim=load('gamegame.npy')\n",
    "print shape(itemSim)\n"
   ]
  },
  {
   "cell_type": "code",
   "execution_count": 86,
   "metadata": {
    "collapsed": false
   },
   "outputs": [],
   "source": [
    "equalWeights=test(3,0.33,0.33)"
   ]
  },
  {
   "cell_type": "code",
   "execution_count": 82,
   "metadata": {
    "collapsed": false
   },
   "outputs": [
    {
     "name": "stdout",
     "output_type": "stream",
     "text": [
      "0.979724137931\n",
      "0.960233809924\n"
     ]
    }
   ],
   "source": [
    "print max(equalWeights[2])\n",
    "print equalWeights[2][419]"
   ]
  },
  {
   "cell_type": "code",
   "execution_count": 101,
   "metadata": {
    "collapsed": false
   },
   "outputs": [],
   "source": [
    "d=[3,5,10,15,20,30,50,100,200]\n",
    "e=[]\n",
    "for i in d:\n",
    "    e.append(numpy.std(test(i,0.33,0.33)[2]))"
   ]
  },
  {
   "cell_type": "code",
   "execution_count": 102,
   "metadata": {
    "collapsed": false
   },
   "outputs": [
    {
     "data": {
      "text/plain": [
       "[<matplotlib.lines.Line2D at 0x10a7a4e90>]"
      ]
     },
     "execution_count": 102,
     "metadata": {},
     "output_type": "execute_result"
    },
    {
     "data": {
      "image/png": "[encoded data removed]",
      "text/plain": [
       "<matplotlib.figure.Figure at 0x10a4d6fd0>"
      ]
     },
     "metadata": {},
     "output_type": "display_data"
    }
   ],
   "source": [
    "plt.plot(d,e)"
   ]
  },
  {
   "cell_type": "code",
   "execution_count": 127,
   "metadata": {
    "collapsed": false
   },
   "outputs": [
    {
     "data": {
      "text/plain": [
       "[<matplotlib.lines.Line2D at 0x10a8ace50>]"
      ]
     },
     "execution_count": 127,
     "metadata": {},
     "output_type": "execute_result"
    },
    {
     "data": {
      "image/png": "[encoded data removed]",
      "text/plain": [
       "<matplotlib.figure.Figure at 0x10a8acc90>"
      ]
     },
     "metadata": {},
     "output_type": "display_data"
    }
   ],
   "source": [
    "d=[3,5,10,20]\n",
    "e=[]\n",
    "f=[]\n",
    "for i in d:\n",
    "    r=test(i,1,0)[1]\n",
    "    e.append(numpy.count_nonzero(r))\n",
    "    f.append(max(r))\n",
    "plt.plot(d,e)\n",
    "plt.plot(e,f)"
   ]
  },
  {
   "cell_type": "code",
   "execution_count": 129,
   "metadata": {
    "collapsed": false
   },
   "outputs": [
    {
     "data": {
      "text/plain": [
       "[<matplotlib.lines.Line2D at 0x10b71bd10>]"
      ]
     },
     "execution_count": 129,
     "metadata": {},
     "output_type": "execute_result"
    },
    {
     "data": {
      "image/png": "[encoded data removed]",
      "text/plain": [
       "<matplotlib.figure.Figure at 0x10b61e2d0>"
      ]
     },
     "metadata": {},
     "output_type": "display_data"
    }
   ],
   "source": [
    "plt.plot(e,f)"
   ]
  },
  {
   "cell_type": "code",
   "execution_count": 131,
   "metadata": {
    "collapsed": false
   },
   "outputs": [
    {
     "name": "stdout",
     "output_type": "stream",
     "text": [
      "[[438, 279, 262, 259, 249], [791, 337, 288, 255, 0], [832, 414, 311, 0, 0], [855, 519, 0, 0, 0], [885, 0, 0, 0, 0]]\n"
     ]
    }
   ],
   "source": [
    "d=[0,0.25,0.5,.75,1.]\n",
    "e=[0,0.25,0.5,.75,1.]\n",
    "#d=[0,0.5,1]\n",
    "#e=[0,0.5,1]\n",
    "f=[]\n",
    "g=[]\n",
    "for i in d:\n",
    "    k=[]\n",
    "    l=[]\n",
    "    for j in e:\n",
    "        if 1-i-j>=0:\n",
    "            r=test(3,i,j)[1]\n",
    "            k.append(numpy.count_nonzero(r))\n",
    "            l.append(max(r))\n",
    "        else:\n",
    "            k.append(0)\n",
    "            l.append(0)\n",
    "    f.append(k)\n",
    "    g.append(l)\n",
    "print f"
   ]
  },
  {
   "cell_type": "code",
   "execution_count": 132,
   "metadata": {
    "collapsed": false
   },
   "outputs": [
    {
     "data": {
      "text/plain": [
       "[[1679.0, 1712.0, 2248.0, 2169.0, 2128.0],\n",
       " [1109.0, 1635.0, 2205.0, 2206.0, 0],\n",
       " [723.0, 1499.0, 1890.0, 0, 0],\n",
       " [409.0, 1316.0, 0, 0, 0],\n",
       " [551.0, 0, 0, 0, 0]]"
      ]
     },
     "execution_count": 132,
     "metadata": {},
     "output_type": "execute_result"
    }
   ],
   "source": [
    "g"
   ]
  },
  {
   "cell_type": "code",
   "execution_count": null,
   "metadata": {
    "collapsed": true
   },
   "outputs": [],
   "source": [
    "for i in d:\n",
    "    e.append(numpy.std(test(i,0.33,0.33)[2]))"
   ]
  },
  {
   "cell_type": "code",
   "execution_count": 108,
   "metadata": {
    "collapsed": false
   },
   "outputs": [],
   "source": [
    "def test(n,alpha,beta):\n",
    "    resultsTen=zeros(len(a))\n",
    "    weightTen=zeros(len(a))\n",
    "    results=zeros(len(a))\n",
    "    for i in range(500):\n",
    "        recs=copacetic(n,alpha,beta)\n",
    "        for i in range(len(recs)):\n",
    "            if i<10:\n",
    "                resultsTen[recs[i]]+=10-i\n",
    "                weightTen[recs[i]]+=1\n",
    "            #results[recs[i]]+=1189-i\n",
    "    return [weightTen,resultsTen,map(lambda x: x/(500*1189.),results)]\n",
    "\t\t\n",
    "def copacetic(n,alpha,beta):\n",
    "\tgames=sample(range(1189),n)\n",
    "\tratings=[choice(range(5,11)) for i in range(n)]\n",
    "\tgame_row=[0 for i in range(1189)]\n",
    "\trating_row=[0 for i in range(1189)]\n",
    "\t#print len(game_row)\n",
    "\tfor i in range(len(games)):\n",
    "\t\t#game_row[games[i]]=1\n",
    "\t\trating_row[games[i]]=ratings[i]\n",
    "\towner = ownership_recs(rating_row,itemSim)\n",
    "\trating = getRecs(rating_row)\n",
    "\tgame = ownership_recs(rating_row,gameSim)\n",
    "\tnew = (alpha*array(owner/max(owner)))+(beta*array(rating/max(rating)))+((1-alpha-beta)*array(game/max(game)))\n",
    "\t#print max(new)\n",
    "\tnew[399]=0\n",
    "\tnew[443]=0\n",
    "\tnew[504]=0\n",
    "\tfor i in games:\n",
    "\t\tnew[i] = 0\n",
    "\tnew=new/max(new)\n",
    "\tnewkeys=sorted(range(len(new)), key=lambda x: new[x])[-20:]\n",
    "\treturn newkeys[::-1]\n",
    "\t\t\n",
    "\t\t\n",
    "def ownership_recs(user,recs):\n",
    "\ttotals=dot(user,recs)\n",
    "\tsimssum=dot(map(lambda x: 1 if x>0 else 0,user),recs)\n",
    "\trankings=[totals[i]/simssum[i] for i in range(len(totals))]\n",
    "\tdel totals,simssum\n",
    "\treturn rankings\n",
    "\n",
    "def tanimotoSimilarity(user1,user2): #tanimoto\n",
    "    a=float(dot(user1,user2))/(dot(user1,user1)+dot(user2,user2)-dot(user1,user2))\n",
    "    if sum(user1)==0 or sum(user2)==0: a = 0\n",
    "    return a\n",
    "\n",
    "def cosineSimilarity(user1,user2):\n",
    "    #user1=map(lambda x: 0 if x==None else x, user1)\n",
    "   # user2=map(lambda x: 0 if x==None else x, user2)\n",
    "    a= float(dot(user1,user2))\n",
    "    if sum(user1)==0 or sum(user2)==0: a = 0\n",
    "    return a\n",
    "\n",
    "def getRecs(user):\n",
    "\t#sims=[similarity(user,i) for i in recs]\n",
    "\ttotals = dot(user,a)\n",
    "\tsimssum= dot(user,aMasked)\n",
    "\trankings=[totals[i]/simssum[i] for i in range(len(totals))]\n",
    "\tdel totals,simssum\n",
    "\treturn rankings"
   ]
  },
  {
   "cell_type": "code",
   "execution_count": 133,
   "metadata": {
    "collapsed": false
   },
   "outputs": [
    {
     "ename": "NameError",
     "evalue": "name 'games2' is not defined",
     "output_type": "error",
     "traceback": [
      "\u001b[0;31m---------------------------------------------------------------------------\u001b[0m",
      "\u001b[0;31mNameError\u001b[0m                                 Traceback (most recent call last)",
      "\u001b[0;32m<ipython-input-133-50b5457147c7>\u001b[0m in \u001b[0;36m<module>\u001b[0;34m()\u001b[0m\n\u001b[0;32m----> 1\u001b[0;31m \u001b[0mgames2\u001b[0m\u001b[0;34m[\u001b[0m\u001b[0;36m1\u001b[0m\u001b[0;34m]\u001b[0m\u001b[0;34m\u001b[0m\u001b[0m\n\u001b[0m",
      "\u001b[0;31mNameError\u001b[0m: name 'games2' is not defined"
     ]
    }
   ],
   "source": [
    "games2[1]"
   ]
  },
  {
   "cell_type": "code",
   "execution_count": null,
   "metadata": {
    "collapsed": true
   },
   "outputs": [],
   "source": []
  }
 ],
 "metadata": {
  "kernelspec": {
   "display_name": "Python 2",
   "language": "python",
   "name": "python2"
  },
  "language_info": {
   "codemirror_mode": {
    "name": "ipython",
    "version": 2
   },
   "file_extension": ".py",
   "mimetype": "text/x-python",
   "name": "python",
   "nbconvert_exporter": "python",
   "pygments_lexer": "ipython2",
   "version": "2.7.10"
  }
 },
 "nbformat": 4,
 "nbformat_minor": 0
}
